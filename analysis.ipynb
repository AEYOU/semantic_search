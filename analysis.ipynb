{
 "cells": [
  {
   "cell_type": "code",
   "execution_count": null,
   "id": "818498f2",
   "metadata": {},
   "outputs": [],
   "source": [
    "import os\n",
    "import pandas as pd\n",
    "import matplotlib"
   ]
  },
  {
   "cell_type": "markdown",
   "id": "5ce8d6b1",
   "metadata": {},
   "source": [
    "# 1. Model Selection\n",
    "This is an asymmetric semantic search problem. Semantic search models can be categorized based on the datasets they were trained on. One category is Multi-QA Models, which are trained on datasets like Amazon-QA (Question-Answer pairs from Amazon product pages). The other category is MSMARCO Passage Models, trained on search queries from Bing.\n",
    "\n",
    "Given that the ESCI dataset is an e-commerce dataset similar to Amazon's, I selected a model from the Multi-QA category. Among the six Multi-QA models, I reviewed the training datasets listed in their model cards and considered only those with detailed training dataset information. Balancing performance and query speed, I chose the multi-qa-MiniLM-L6-cos-v1 model, which offers moderate performance and very fast query speed.\n",
    "\n",
    "Its primary use case includes queries/questions and text paragraphs."
   ]
  },
  {
   "cell_type": "markdown",
   "id": "5221ba93",
   "metadata": {},
   "source": [
    "# 2. Model Evaluation"
   ]
  },
  {
   "cell_type": "code",
   "execution_count": null,
   "id": "9842dcb0",
   "metadata": {},
   "outputs": [],
   "source": [
    "# Read in data\n",
    "output_folder = \"output\"\n",
    "query_ndcg_file = os.path.join(output_folder, \"query_ndcg_df.parquet\")\n",
    "query_ndcg_df = pd.read_parquet(query_ndcg_file)"
   ]
  },
  {
   "cell_type": "code",
   "execution_count": null,
   "id": "041f76f9",
   "metadata": {},
   "outputs": [],
   "source": [
    "# Check NDCG scores statistics\n",
    "query_ndcg_df['ndcg_score'].describe()"
   ]
  },
  {
   "cell_type": "code",
   "execution_count": null,
   "id": "b4c2004d",
   "metadata": {},
   "outputs": [],
   "source": [
    "# Plot histogram of NDCG scores\n",
    "query_ndcg_df['ndcg_score'].hist(bins=50)"
   ]
  },
  {
   "cell_type": "code",
   "execution_count": null,
   "id": "1a611843",
   "metadata": {},
   "outputs": [],
   "source": [
    "query_ndcg_df.loc[query_ndcg_df['ndcg_score'] < 0.5]"
   ]
  },
  {
   "cell_type": "markdown",
   "id": "181ef34d",
   "metadata": {},
   "source": [
    "The mean and median NDCG scores are both greater than 0.9, demonstrating strong performance of the selected model. However, the model exhibits reduced performance on queries in Japanese or Spanish. To further evaluate and improve model robustness, repeated cross-validation could be conducted to obtain the distribution of mean NDCG scores, ensuring that queries in Japanese and Spanish are proportionally sampled. Additionally, performance can be separately evaluated on Japanese and Spanish queries, and a non-parametric two-sample t-test could be conducted to assess whether the mean NDCG scores are significantly higher than a baseline.\n",
    "\n",
    "Since the model was not trained specifically on the ESCI dataset, its performance could potentially be improved by fine-tuning it on the ESCI dataset directly, or by further training on language-specific subsets (e.g., Japanese or Spanish queries) to better capture linguistic nuances.\n",
    "\n",
    "It should also be noted that the current evaluation is based on a relatively small sample size, which may introduce bias or limit the generalizability of the results. Expanding the evaluation to a larger and more representative sample would provide a more robust assessment of model performance."
   ]
  }
 ],
 "metadata": {
  "kernelspec": {
   "display_name": "algolia",
   "language": "python",
   "name": "python3"
  },
  "language_info": {
   "codemirror_mode": {
    "name": "ipython",
    "version": 3
   },
   "file_extension": ".py",
   "mimetype": "text/x-python",
   "name": "python",
   "nbconvert_exporter": "python",
   "pygments_lexer": "ipython3",
   "version": "3.10.17"
  }
 },
 "nbformat": 4,
 "nbformat_minor": 5
}
